{
 "cells": [
  {
   "cell_type": "code",
   "execution_count": 1,
   "metadata": {},
   "outputs": [
    {
     "name": "stdout",
     "output_type": "stream",
     "text": [
      "a)\n",
      "Rozwiązanie: [53.035714285714285, 33.07142857142856, 11.17857142857142]\n",
      "\n",
      "b)\n",
      "Rozwiązanie: [1.0, 2.0000000000000004, 3.000000000000001]\n",
      "\n",
      "c)\n",
      "Rozwiązanie: [105.99999999999993, 51.99999999999996, 49.000000000000036, 54.00000000000003]\n",
      "\n",
      "d)\n",
      "Rozwiązanie: [-9.279999999999996, 5.1599999999999975, 0.7599999999999997]\n"
     ]
    }
   ],
   "source": [
    "import numpy as np\n",
    "\n",
    "def cramer(R, V):\n",
    "    det_R = np.linalg.det(R)\n",
    "    if det_R == 0:\n",
    "        return \"Wyznacznik macierzy głównej wynosi 0, metoda Cramera nie może być stosowana.\"\n",
    "    rozwiazania = []\n",
    "    for i in range(len(V)):\n",
    "        R_temp = np.copy(R)\n",
    "        R_temp[:, i] = V\n",
    "        det_R_temp = np.linalg.det(R_temp)\n",
    "        rozwiazania.append(det_R_temp / det_R)\n",
    "    return rozwiazania\n",
    "# a)\n",
    "print(\"a)\")\n",
    "R_a = np.array([[3, 1, -1], [1, 2, -1], [1, 1, 5]])\n",
    "V_a = np.array([181.05, 108.35, 142.55])\n",
    "print(\"Rozwiązanie:\", cramer(R_a, V_a))\n",
    "# b)\n",
    "print(\"\\nb)\")\n",
    "R_b = np.array([[1, -1, 2], [3, 2, 1], [2, -3, -2]])\n",
    "V_b = np.array([5, 10, -10])\n",
    "print(\"Rozwiązanie:\", cramer(R_b, V_b))\n",
    "# c)\n",
    "print(\"\\nc)\")\n",
    "R_c = np.array([[5, 1, 1, 1], [2, -1, -1, 1], [3, -1, 2, -2], [5, -4, 3, -2]])\n",
    "V_c = np.array([685, 165, 256, 361])\n",
    "print(\"Rozwiązanie:\", cramer(R_c, V_c))\n",
    "# d)\n",
    "print(\"\\nd)\")\n",
    "R_d = np.array([[1, 3, 5], [2, 5, 1], [2, 3, 8]])\n",
    "V_d = np.array([10, 8, 3])\n",
    "print(\"Rozwiązanie:\", cramer(R_d, V_d))\n"
   ]
  },
  {
   "cell_type": "code",
   "execution_count": 2,
   "metadata": {},
   "outputs": [
    {
     "name": "stdout",
     "output_type": "stream",
     "text": [
      "Układ równań a:\n",
      "x1 = 53.00, x2 = 33.30, x3 = 11.25\n",
      "Układ równań b:\n",
      "x1 = 1.00, x2 = 2.00, x3 = 3.00\n",
      "Układ równań c:\n",
      "x1 = 106.00, x2 = 52.00, x3 = 49.00, x4 = 54.00\n",
      "Układ równań d:\n",
      "x = -9.28, y = 5.16, z = 0.76\n"
     ]
    }
   ],
   "source": [
    "import numpy as np\n",
    "\n",
    "\n",
    "a1 = np.array([[3, 1, -1], [1, 2, -1], [1, 1, 5]])\n",
    "b1 = np.array([181.05, 108.35, 142.55])\n",
    "\n",
    "\n",
    "a2 = np.array([[1, -1, 2], [3, 2, 1], [2, -3, -2]])\n",
    "b2 = np.array([5, 10, -10])\n",
    "\n",
    "\n",
    "a3 = np.array([[5, 1, 1, 1], [2, -1, -1, 1], [3, -1, 2, -2], [5, -4, 3, -2]])\n",
    "b3 = np.array([685, 165, 256, 361])\n",
    "\n",
    "\n",
    "a4 = np.array([[1, 3, 5], [2, 5, 1], [2, 3, 8]])\n",
    "b4 = np.array([10, 8, 3])\n",
    "\n",
    "x1 = np.linalg.solve(a1, b1)\n",
    "x2 = np.linalg.solve(a2, b2)\n",
    "x3 = np.linalg.solve(a3, b3)\n",
    "x4 = np.linalg.solve(a4, b4)\n",
    "\n",
    "print(\"Układ równań a:\")\n",
    "print(f\"x1 = {x1[0]:.2f}, x2 = {x1[1]:.2f}, x3 = {x1[2]:.2f}\")\n",
    "print(\"Układ równań b:\")\n",
    "print(f\"x1 = {x2[0]:.2f}, x2 = {x2[1]:.2f}, x3 = {x2[2]:.2f}\")\n",
    "print(\"Układ równań c:\")\n",
    "print(f\"x1 = {x3[0]:.2f}, x2 = {x3[1]:.2f}, x3 = {x3[2]:.2f}, x4 = {x3[3]:.2f}\")\n",
    "print(\"Układ równań d:\")\n",
    "print(f\"x = {x4[0]:.2f}, y = {x4[1]:.2f}, z = {x4[2]:.2f}\")"
   ]
  }
 ],
 "metadata": {
  "kernelspec": {
   "display_name": "Python 3",
   "language": "python",
   "name": "python3"
  },
  "language_info": {
   "codemirror_mode": {
    "name": "ipython",
    "version": 3
   },
   "file_extension": ".py",
   "mimetype": "text/x-python",
   "name": "python",
   "nbconvert_exporter": "python",
   "pygments_lexer": "ipython3",
   "version": "3.10.8"
  }
 },
 "nbformat": 4,
 "nbformat_minor": 2
}
