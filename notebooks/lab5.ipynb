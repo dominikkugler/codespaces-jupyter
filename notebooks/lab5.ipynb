{
 "cells": [
  {
   "cell_type": "code",
   "execution_count": 4,
   "metadata": {},
   "outputs": [
    {
     "ename": "ValueError",
     "evalue": "A value (2.858407346410212) in x_new is above the interpolation range's maximum value (2.858407346410205).",
     "output_type": "error",
     "traceback": [
      "\u001b[0;31m---------------------------------------------------------------------------\u001b[0m",
      "\u001b[0;31mValueError\u001b[0m                                Traceback (most recent call last)",
      "\u001b[1;32m/workspaces/codespaces-jupyter/notebooks/lab5.ipynb Komórka 1\u001b[0m line \u001b[0;36m1\n\u001b[1;32m     <a href='vscode-notebook-cell://codespaces%2Bopulent-space-robot-44gvwp945r5fq9xx/workspaces/codespaces-jupyter/notebooks/lab5.ipynb#W0sdnNjb2RlLXJlbW90ZQ%3D%3D?line=13'>14</a>\u001b[0m \u001b[39mfor\u001b[39;00m interp_type \u001b[39min\u001b[39;00m interpolation_types:\n\u001b[1;32m     <a href='vscode-notebook-cell://codespaces%2Bopulent-space-robot-44gvwp945r5fq9xx/workspaces/codespaces-jupyter/notebooks/lab5.ipynb#W0sdnNjb2RlLXJlbW90ZQ%3D%3D?line=14'>15</a>\u001b[0m     f \u001b[39m=\u001b[39m interp1d(x, y1, kind\u001b[39m=\u001b[39minterp_type)\n\u001b[0;32m---> <a href='vscode-notebook-cell://codespaces%2Bopulent-space-robot-44gvwp945r5fq9xx/workspaces/codespaces-jupyter/notebooks/lab5.ipynb#W0sdnNjb2RlLXJlbW90ZQ%3D%3D?line=15'>16</a>\u001b[0m     y1_interp \u001b[39m=\u001b[39m f(x_interp)\n\u001b[1;32m     <a href='vscode-notebook-cell://codespaces%2Bopulent-space-robot-44gvwp945r5fq9xx/workspaces/codespaces-jupyter/notebooks/lab5.ipynb#W0sdnNjb2RlLXJlbW90ZQ%3D%3D?line=16'>17</a>\u001b[0m     interpolated_data\u001b[39m.\u001b[39mappend(y1_interp)\n\u001b[1;32m     <a href='vscode-notebook-cell://codespaces%2Bopulent-space-robot-44gvwp945r5fq9xx/workspaces/codespaces-jupyter/notebooks/lab5.ipynb#W0sdnNjb2RlLXJlbW90ZQ%3D%3D?line=18'>19</a>\u001b[0m     f \u001b[39m=\u001b[39m interp1d(x, y2, kind\u001b[39m=\u001b[39minterp_type)\n",
      "File \u001b[0;32m~/.local/lib/python3.10/site-packages/scipy/interpolate/_polyint.py:80\u001b[0m, in \u001b[0;36m_Interpolator1D.__call__\u001b[0;34m(self, x)\u001b[0m\n\u001b[1;32m     59\u001b[0m \u001b[39m\u001b[39m\u001b[39m\"\"\"\u001b[39;00m\n\u001b[1;32m     60\u001b[0m \u001b[39mEvaluate the interpolant\u001b[39;00m\n\u001b[1;32m     61\u001b[0m \n\u001b[0;32m   (...)\u001b[0m\n\u001b[1;32m     77\u001b[0m \n\u001b[1;32m     78\u001b[0m \u001b[39m\"\"\"\u001b[39;00m\n\u001b[1;32m     79\u001b[0m x, x_shape \u001b[39m=\u001b[39m \u001b[39mself\u001b[39m\u001b[39m.\u001b[39m_prepare_x(x)\n\u001b[0;32m---> 80\u001b[0m y \u001b[39m=\u001b[39m \u001b[39mself\u001b[39;49m\u001b[39m.\u001b[39;49m_evaluate(x)\n\u001b[1;32m     81\u001b[0m \u001b[39mreturn\u001b[39;00m \u001b[39mself\u001b[39m\u001b[39m.\u001b[39m_finish_y(y, x_shape)\n",
      "File \u001b[0;32m~/.local/lib/python3.10/site-packages/scipy/interpolate/_interpolate.py:755\u001b[0m, in \u001b[0;36minterp1d._evaluate\u001b[0;34m(self, x_new)\u001b[0m\n\u001b[1;32m    753\u001b[0m y_new \u001b[39m=\u001b[39m \u001b[39mself\u001b[39m\u001b[39m.\u001b[39m_call(\u001b[39mself\u001b[39m, x_new)\n\u001b[1;32m    754\u001b[0m \u001b[39mif\u001b[39;00m \u001b[39mnot\u001b[39;00m \u001b[39mself\u001b[39m\u001b[39m.\u001b[39m_extrapolate:\n\u001b[0;32m--> 755\u001b[0m     below_bounds, above_bounds \u001b[39m=\u001b[39m \u001b[39mself\u001b[39;49m\u001b[39m.\u001b[39;49m_check_bounds(x_new)\n\u001b[1;32m    756\u001b[0m     \u001b[39mif\u001b[39;00m \u001b[39mlen\u001b[39m(y_new) \u001b[39m>\u001b[39m \u001b[39m0\u001b[39m:\n\u001b[1;32m    757\u001b[0m         \u001b[39m# Note fill_value must be broadcast up to the proper size\u001b[39;00m\n\u001b[1;32m    758\u001b[0m         \u001b[39m# and flattened to work here\u001b[39;00m\n\u001b[1;32m    759\u001b[0m         y_new[below_bounds] \u001b[39m=\u001b[39m \u001b[39mself\u001b[39m\u001b[39m.\u001b[39m_fill_value_below\n",
      "File \u001b[0;32m~/.local/lib/python3.10/site-packages/scipy/interpolate/_interpolate.py:789\u001b[0m, in \u001b[0;36minterp1d._check_bounds\u001b[0;34m(self, x_new)\u001b[0m\n\u001b[1;32m    787\u001b[0m \u001b[39mif\u001b[39;00m \u001b[39mself\u001b[39m\u001b[39m.\u001b[39mbounds_error \u001b[39mand\u001b[39;00m above_bounds\u001b[39m.\u001b[39many():\n\u001b[1;32m    788\u001b[0m     above_bounds_value \u001b[39m=\u001b[39m x_new[np\u001b[39m.\u001b[39margmax(above_bounds)]\n\u001b[0;32m--> 789\u001b[0m     \u001b[39mraise\u001b[39;00m \u001b[39mValueError\u001b[39;00m(\u001b[39m\"\u001b[39m\u001b[39mA value (\u001b[39m\u001b[39m{}\u001b[39;00m\u001b[39m) in x_new is above \u001b[39m\u001b[39m\"\u001b[39m\n\u001b[1;32m    790\u001b[0m                      \u001b[39m\"\u001b[39m\u001b[39mthe interpolation range\u001b[39m\u001b[39m'\u001b[39m\u001b[39ms maximum value (\u001b[39m\u001b[39m{}\u001b[39;00m\u001b[39m).\u001b[39m\u001b[39m\"\u001b[39m\n\u001b[1;32m    791\u001b[0m                      \u001b[39m.\u001b[39mformat(above_bounds_value, \u001b[39mself\u001b[39m\u001b[39m.\u001b[39mx[\u001b[39m-\u001b[39m\u001b[39m1\u001b[39m]))\n\u001b[1;32m    793\u001b[0m \u001b[39m# !! Should we emit a warning if some values are out of bounds?\u001b[39;00m\n\u001b[1;32m    794\u001b[0m \u001b[39m# !! matlab does not.\u001b[39;00m\n\u001b[1;32m    795\u001b[0m \u001b[39mreturn\u001b[39;00m below_bounds, above_bounds\n",
      "\u001b[0;31mValueError\u001b[0m: A value (2.858407346410212) in x_new is above the interpolation range's maximum value (2.858407346410205)."
     ]
    }
   ],
   "source": [
    "import numpy as np\n",
    "from scipy.interpolate import interp1d\n",
    "import matplotlib.pyplot as plt\n",
    "\n",
    "# Generate input data sets\n",
    "x = np.arange(-np.pi, np.pi, 0.4)\n",
    "x_interp = np.arange(-np.pi, np.pi, 0.08)\n",
    "y1 = np.sin(1/x)\n",
    "y2 = np.exp(np.cos(x))\n",
    "\n",
    "# Perform interpolation\n",
    "interpolation_types = ['linear', 'nearest', 'zero', 'slinear', 'quadratic', 'cubic']\n",
    "interpolated_data = []\n",
    "for interp_type in interpolation_types:\n",
    "    f = interp1d(x, y1, kind=interp_type)\n",
    "    y1_interp = f(x_interp)\n",
    "    interpolated_data.append(y1_interp)\n",
    "\n",
    "    f = interp1d(x, y2, kind=interp_type)\n",
    "    y2_interp = f(x_interp)\n",
    "    interpolated_data.append(y2_interp)\n",
    "\n",
    "# Plot the data\n",
    "fig, axs = plt.subplots(len(interpolation_types), 2, figsize=(10, 10))\n",
    "for i, interp_type in enumerate(interpolation_types):\n",
    "    axs[i, 0].plot(x, y1, 'bo', label='Original')\n",
    "    axs[i, 0].plot(x_interp, interpolated_data[i*2], 'r-', label='Interpolated')\n",
    "    axs[i, 0].set_title(f'Interpolation Type: {interp_type}')\n",
    "    axs[i, 0].legend()\n",
    "\n",
    "    axs[i, 1].plot(x, y2, 'bo', label='Original')\n",
    "    axs[i, 1].plot(x_interp, interpolated_data[i*2+1], 'r-', label='Interpolated')\n",
    "    axs[i, 1].set_title(f'Interpolation Type: {interp_type}')\n",
    "    axs[i, 1].legend()\n",
    "\n",
    "plt.tight_layout()\n",
    "plt.show()\n"
   ]
  }
 ],
 "metadata": {
  "kernelspec": {
   "display_name": "Python 3",
   "language": "python",
   "name": "python3"
  },
  "language_info": {
   "codemirror_mode": {
    "name": "ipython",
    "version": 3
   },
   "file_extension": ".py",
   "mimetype": "text/x-python",
   "name": "python",
   "nbconvert_exporter": "python",
   "pygments_lexer": "ipython3",
   "version": "3.10.8"
  }
 },
 "nbformat": 4,
 "nbformat_minor": 2
}
