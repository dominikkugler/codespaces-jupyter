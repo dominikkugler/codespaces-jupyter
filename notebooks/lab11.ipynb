{
 "cells": [
  {
   "cell_type": "code",
   "execution_count": 2,
   "metadata": {},
   "outputs": [
    {
     "name": "stdout",
     "output_type": "stream",
     "text": [
      "Rozwiazania np.linalg.solve:\n",
      "[53.   33.3  11.25]\n",
      "[1. 2. 3.]\n",
      "[106.  52.  49.  54.]\n",
      "[-9.28  5.16  0.76]\n",
      "Rozwiazania z metody gaussa:\n",
      "[49.83 48.   16.44]\n",
      "[1 2 3]\n",
      "[96 37 72 95]\n",
      "[-26  12   0]\n"
     ]
    }
   ],
   "source": [
    "import numpy as np\n",
    "\n",
    "a1 = np.array([[3, 1, -1], [1, 2, -1], [1, 1, 5]])\n",
    "b1 = np.array([181.05, 108.35, 142.55])\n",
    "\n",
    "\n",
    "a2 = np.array([[1, -1, 2], [3, 2, 1], [2, -3, -2]])\n",
    "b2 = np.array([5, 10, -10])\n",
    "\n",
    "\n",
    "a3 = np.array([[5, 1, 1, 1], [2, -1, -1, 1], [3, -1, 2, -2], [5, -4, 3, -2]])\n",
    "b3 = np.array([685, 165, 256, 361])\n",
    "\n",
    "\n",
    "a4 = np.array([[1, 3, 5], [2, 5, 1], [2, 3, 8]])\n",
    "b4 = np.array([10, 8, 3])\n",
    "\n",
    "def gauss(a,b): #a - macierz wspolczynnikow, b - wektor wyrazow wolnych\n",
    "    n = len(b)\n",
    "    # procedura eliminacji\n",
    "    for k in range(0,n-1):\n",
    "        for i in range(k+1,n):\n",
    "            if a[i,k] != 0.0:\n",
    "                lam = a[i,k]/float(a[k,k])\n",
    "                a[i,k+1:n] = a[i,k+1:n] - lam*a[k,k+1:n]\n",
    "                b[i] = b[i] - lam*b[k]\n",
    "    # procedura wyliczania rozwiazania i zapisu do macierzy b\n",
    "    for k in range(n-1,-1,-1):\n",
    "        b[k] = (b[k] - np.dot(a[k,k+1:n],b[k+1:n]))/float(a[k,k])\n",
    "    return b\n",
    "\n",
    "print('Rozwiazania np.linalg.solve:')\n",
    "print(np.linalg.solve(a1,b1))\n",
    "print(np.linalg.solve(a2,b2))\n",
    "print(np.linalg.solve(a3,b3))\n",
    "print(np.linalg.solve(a4,b4))\n",
    "print('Rozwiazania z metody gaussa:')\n",
    "rozw1 = gauss(a1,b1)\n",
    "print(rozw1)\n",
    "rozw2 = gauss(a2,b2)\n",
    "print(rozw2)\n",
    "rozw3 = gauss(a3,b3)\n",
    "print(rozw3)\n",
    "rozw4 = gauss(a4,b4)\n",
    "print(rozw4)\n",
    "\n",
    "# Wnioski:\n",
    "# Metoda linealg.solve zwraca dokładne rozwiązanie układu równań liniowych.\n",
    "# Wartości zwracane przez własnoręcznie napisaną funkcję gauss dla\n",
    "# układu równań B są dokładne, natomiast dla układów A, C i D \n",
    "# znacząco różnią się od tych zwracanych przez funkcję numpy.linalg.solve.\n",
    "\n",
    "# Działanie funkcji gauss:\n",
    "# W pierwszej pętli for następuje eliminacja. Dla każdego wiersza a \n",
    "# poniżej k-tego wiersza, jeśli a[i,k] != 0, to obliczany jest współczynnik\n",
    "# lam = a[i,k]/a[k,k], a następnie odejmowana jest od wiersza a[i]\n",
    "# odpowiednia ilość k-tego wiersza pomnożonego przez lam.\n",
    "# W drugiej pętli for następuje wyliczenie rozwiązania. Dla każdego wiersza\n",
    "# a od końca do początku, obliczane jest b[k] = (b[k] - sum(a[k,k+1:n]*b[k+1:n]))/a[k,k].\n",
    "# W ten sposób otrzymujemy rozwiązanie układu równań liniowych.\n"
   ]
  },
  {
   "cell_type": "code",
   "execution_count": null,
   "metadata": {},
   "outputs": [],
   "source": []
  }
 ],
 "metadata": {
  "kernelspec": {
   "display_name": "Python 3",
   "language": "python",
   "name": "python3"
  },
  "language_info": {
   "codemirror_mode": {
    "name": "ipython",
    "version": 3
   },
   "file_extension": ".py",
   "mimetype": "text/x-python",
   "name": "python",
   "nbconvert_exporter": "python",
   "pygments_lexer": "ipython3",
   "version": "3.10.8"
  }
 },
 "nbformat": 4,
 "nbformat_minor": 2
}
